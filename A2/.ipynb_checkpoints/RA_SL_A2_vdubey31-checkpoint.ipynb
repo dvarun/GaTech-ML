{
 "cells": [
  {
   "cell_type": "markdown",
   "id": "modified-richards",
   "metadata": {},
   "source": [
    "## Part 1 Randomized optimization"
   ]
  },
  {
   "cell_type": "code",
   "execution_count": 116,
   "id": "b17217cd",
   "metadata": {
    "ExecuteTime": {
     "end_time": "2022-10-15T09:35:56.042576Z",
     "start_time": "2022-10-15T09:35:56.020865Z"
    },
    "id": "b17217cd"
   },
   "outputs": [],
   "source": [
    "# import library\n",
    "import pandas as pd\n",
    "import matplotlib.pyplot as plt\n",
    "import numpy as np\n",
    "import sys\n",
    "import mlrose\n",
    "import time\n",
    "import random\n",
    "import itertools\n",
    "import math"
   ]
  },
  {
   "cell_type": "code",
   "execution_count": 117,
   "id": "2263a0dd",
   "metadata": {
    "ExecuteTime": {
     "end_time": "2022-10-15T09:35:56.813046Z",
     "start_time": "2022-10-15T09:35:56.795607Z"
    },
    "id": "2263a0dd"
   },
   "outputs": [],
   "source": [
    "def fill_array(max_iters, curve):\n",
    "    max_value = max(curve)\n",
    "    \n",
    "    empty_array = np.empty(max_iters)\n",
    "    empty_array[:] = max_value\n",
    "    \n",
    "    len_curve = len(curve)\n",
    "    \n",
    "    if len_curve >= max_iters:\n",
    "        empty_array[0:max_iters] = curve[0:max_iters]\n",
    "    else:\n",
    "        empty_array[0:len_curve] = curve[0:len_curve]\n",
    "    \n",
    "    return empty_array, len_curve"
   ]
  },
  {
   "cell_type": "code",
   "execution_count": 76,
   "id": "1b2e464c",
   "metadata": {
    "ExecuteTime": {
     "end_time": "2022-10-14T16:53:40.187826Z",
     "start_time": "2022-10-14T16:49:20.415828Z"
    },
    "id": "1b2e464c"
   },
   "outputs": [
    {
     "name": "stdout",
     "output_type": "stream",
     "text": [
      "The best state found for RHC is:  [1 1 1 1 1 1 1 1 1 1 1 1 1 1 1 1 1 1 1 1 1 1 1 1 1 1 1 1 1 1 1 1 1 1 1 1 1\n",
      " 1 1 1 1 1 1 1 1 1 1 1 1 1 1 1 1 1 1 1 1 1 1 1 1 1 1 1 1 1 1 1 1 1 1 1 1 1\n",
      " 1 1 1 1 1 1 1 1 1 1 1 1 1 1 1 1 1 1 1 1 1 1 1 1 1 1]\n",
      "The fitness at the best state for RHC is:  100.0\n",
      "run time for RHC is:  1.6746118068695068\n",
      "The best state found for SA is:  [1 1 1 1 1 1 1 1 1 1 1 0 0 0 0 0 0 0 0 0 0 0 0 0 0 0 0 0 0 0 0 0 0 0 0 0 0\n",
      " 0 0 0 0 0 0 0 0 0 0 0 0 0 0 0 0 0 0 0 0 0 0 0 0 0 0 0 0 0 0 0 0 0 0 0 0 0\n",
      " 0 0 0 0 0 0 0 0 0 0 0 0 0 0 0 0 0 0 0 0 0 0 0 0 0 0]\n",
      "The fitness at the best state for SA is:  189.0\n",
      "run time for SA is:  3.585314989089966\n",
      "The best state found for GA is:  [1 1 1 1 1 1 1 1 1 1 1 0 1 1 1 1 0 1 0 0 0 0 0 1 0 0 1 1 0 0 0 1 0 0 1 0 1\n",
      " 1 1 0 0 0 0 0 0 0 0 0 0 0 0 0 0 0 0 0 0 0 0 0 0 0 0 0 0 0 0 0 0 0 0 0 0 0\n",
      " 0 0 0 0 0 0 0 0 0 0 0 0 0 0 0 0 0 0 0 0 0 0 0 0 0 0]\n",
      "The fitness at the best state for GA is:  161.0\n",
      "run time for GA is:  156.65764093399048\n",
      "The best state found for MIMIC is:  [1 0 1 0 0 1 1 1 0 0 0 0 0 1 1 0 0 1 1 0 1 0 0 0 0 0 0 0 1 0 0 0 1 1 1 1 1\n",
      " 0 1 1 0 1 0 0 1 1 1 1 1 0 0 1 0 0 1 0 0 1 1 0 0 0 0 1 1 1 0 1 1 0 1 0 0 0\n",
      " 0 0 0 0 0 0 0 0 0 0 0 0 0 0 0 0 0 0 0 0 0 0 0 0 0 0]\n",
      "The fitness at the best state for MIMIC is:  29.0\n",
      "run time for MIMIC is:  97.1867823600769\n"
     ]
    }
   ],
   "source": [
    "# four peaks\n",
    "fitness = mlrose.FourPeaks() \n",
    "problem = mlrose.DiscreteOpt(length = 100, fitness_fn = fitness, maximize = True, max_val=2)\n",
    "\n",
    "max_attempts = 1000\n",
    "max_iters = math.inf\n",
    "\n",
    "# run randomized hill climbing\n",
    "start_time = time.time()\n",
    "best_state, best_fitness, fitness_curve = mlrose.random_hill_climb(problem, restarts = 10, curve = True,\n",
    "                                                                   max_attempts = max_attempts, max_iters = max_iters,\n",
    "                                                                   random_state = 6)\n",
    "end_time = time.time()\n",
    "rhc_time = end_time - start_time\n",
    "print('The best state found for RHC is: ', best_state)\n",
    "print('The fitness at the best state for RHC is: ', best_fitness)\n",
    "print('run time for RHC is: ', rhc_time)\n",
    "\n",
    "# run simulated annealing\n",
    "start_time = time.time()\n",
    "best_state_SA, best_fitness_SA, fitness_curve_SA = mlrose.simulated_annealing(problem, curve = True,\n",
    "                                                                              max_attempts = max_attempts, \n",
    "                                                                              max_iters = max_iters,\n",
    "                                                                              random_state = 6,\n",
    "                                                                              schedule=mlrose.GeomDecay(init_temp = 100, decay=0.8, min_temp=1)\n",
    "                                                                             )\n",
    "end_time = time.time()\n",
    "sa_time = end_time - start_time\n",
    "print('The best state found for SA is: ', best_state_SA)\n",
    "print('The fitness at the best state for SA is: ', best_fitness_SA)\n",
    "print('run time for SA is: ', sa_time)\n",
    "\n",
    "#GA algorithm\n",
    "start_time = time.time()\n",
    "best_state_GA, best_fitness_GA, fitness_curve_GA = mlrose.genetic_alg(problem, curve = True,\n",
    "                                                                      max_attempts = max_attempts, max_iters = max_iters,\n",
    "                                                                      random_state = 6, pop_size=500,\n",
    "                                                                      mutation_prob=0.001\n",
    "                                                                     )\n",
    "end_time = time.time()\n",
    "ga_time = end_time - start_time\n",
    "print('The best state found for GA is: ', best_state_GA)\n",
    "print('The fitness at the best state for GA is: ', best_fitness_GA)\n",
    "print('run time for GA is: ', ga_time)\n",
    "\n",
    "\n",
    "# run MIMIC\n",
    "start_time = time.time()\n",
    "best_state_MM, best_fitness_MM, fitness_curve_MM = mlrose.mimic(problem, curve = True,\n",
    "                                                                max_attempts = max_attempts, max_iters = max_iters,\n",
    "                                                                fast_mimic=True,\n",
    "                                                                random_state = 6\n",
    "                                                                )\n",
    "end_time = time.time()\n",
    "mimic_time = end_time - start_time\n",
    "print('The best state found for MIMIC is: ', best_state_MM)\n",
    "print('The fitness at the best state for MIMIC is: ', best_fitness_MM)\n",
    "print('run time for MIMIC is: ', mimic_time)"
   ]
  },
  {
   "cell_type": "code",
   "execution_count": 64,
   "id": "y8YzqNgkjqb6",
   "metadata": {
    "ExecuteTime": {
     "end_time": "2022-10-14T16:07:31.283676Z",
     "start_time": "2022-10-14T16:07:31.270310Z"
    },
    "id": "y8YzqNgkjqb6"
   },
   "outputs": [
    {
     "name": "stdout",
     "output_type": "stream",
     "text": [
      "46326\n",
      "11689\n",
      "1285\n",
      "538\n"
     ]
    }
   ],
   "source": [
    "print(len(fitness_curve))\n",
    "print(len(fitness_curve_SA))\n",
    "print(len(fitness_curve_GA))\n",
    "print(len(fitness_curve_MM))"
   ]
  },
  {
   "cell_type": "code",
   "execution_count": 67,
   "id": "c38ce5a6",
   "metadata": {
    "ExecuteTime": {
     "end_time": "2022-10-14T16:07:53.111075Z",
     "start_time": "2022-10-14T16:07:53.101566Z"
    },
    "id": "c38ce5a6"
   },
   "outputs": [],
   "source": [
    "## fill fitness curve after reach the max value with the max value\n",
    "max_iters = 20000\n",
    "fitness_RHC, len_RHC = fill_array(max_iters, fitness_curve)\n",
    "fitness_SA, len_SA = fill_array(max_iters, fitness_curve_SA)\n",
    "fitness_GA, len_GA = fill_array(max_iters, fitness_curve_GA)\n",
    "fitness_MM, len_MM = fill_array(max_iters, fitness_curve_MM) "
   ]
  },
  {
   "cell_type": "code",
   "execution_count": 68,
   "id": "b0595cc5",
   "metadata": {
    "ExecuteTime": {
     "end_time": "2022-10-14T16:07:54.755240Z",
     "start_time": "2022-10-14T16:07:54.227567Z"
    },
    "id": "b0595cc5"
   },
   "outputs": [
    {
     "name": "stdout",
     "output_type": "stream",
     "text": [
      "  Algorithm  Time (s)\n",
      "0       RHC   1.01356\n",
      "1        SA   0.50372\n",
      "2        GA  25.02479\n",
      "3     MIMIC  44.28104\n"
     ]
    },
    {
     "data": {
      "image/png": "[encoded data removed]",
      "text/plain": [
       "<Figure size 432x288 with 1 Axes>"
      ]
     },
     "metadata": {
      "needs_background": "light"
     },
     "output_type": "display_data"
    }
   ],
   "source": [
    " # Plot Iterations vs Fitness\n",
    "iterations = range(1, 20001)\n",
    "\n",
    "plt.figure()\n",
    "\n",
    "plt.plot(iterations, fitness_RHC, label='RHC', color='green')\n",
    "plt.plot(iterations, fitness_SA, label='SA', color='red')\n",
    "plt.plot(iterations, fitness_GA, label='GA', color='blue')\n",
    "plt.plot(iterations, fitness_MM, label='MIMIC', color='orange')\n",
    "\n",
    "plt.legend(loc=\"best\")\n",
    "plt.xlabel(\"Iterations\")\n",
    "plt.ylabel(\"Fitness\")\n",
    "plt.title('Fitness curve for four peak problem')\n",
    "\n",
    "data = [('RHC', round(rhc_time, 5)), \n",
    "        ('SA', round(sa_time, 5)), \n",
    "        ('GA', round(ga_time, 5)), \n",
    "        ('MIMIC', round(mimic_time, 5))] \n",
    "\n",
    "df = pd.DataFrame(data, columns =['Algorithm', 'Time (s)']) \n",
    "print(df)"
   ]
  },
  {
   "cell_type": "code",
   "execution_count": 81,
   "id": "396f7c3c",
   "metadata": {
    "ExecuteTime": {
     "end_time": "2022-10-14T17:22:59.478758Z",
     "start_time": "2022-10-14T17:18:09.117499Z"
    },
    "id": "396f7c3c"
   },
   "outputs": [
    {
     "name": "stdout",
     "output_type": "stream",
     "text": [
      "The best state found for RHC is:  [1 1 1 1 1 1 1 1 1 1 1 1 1 1 1 1 1 1 1 1 1 1 1 1 1 1 1 1 1 1 1 1 1 1 1 1 1\n",
      " 1 1 1 1 1 1 1 1 1 1 1 1 1 1 1 1 1 1 1 1 1 1 1 1 1 1 1 1 1 1 1 1 1 1 1 1 1\n",
      " 1 1 1 1 1 1 1 1 1 1 1 1 1 1 1 1 1 1 1 1 1 1 1 1 1 0]\n",
      "The fitness at the best state for RHC is:  1500.0\n",
      "run time for RHC is:  48.65149474143982\n",
      "The best state found for SA is:  [1 1 1 1 1 1 1 1 1 1 1 1 1 1 1 1 1 1 1 1 1 1 1 1 1 1 1 1 1 1 1 1 1 1 1 1 1\n",
      " 1 1 1 1 1 1 1 1 1 1 1 1 1 1 1 1 1 1 1 1 1 1 1 1 1 1 1 1 1 1 1 1 1 1 1 1 1\n",
      " 1 1 1 1 1 1 1 1 1 1 1 1 1 1 1 1 1 1 1 1 1 1 1 1 1 1]\n",
      "The fitness at the best state for SA is:  1500.0\n",
      "run time for SA is:  2.000124216079712\n",
      "The best state found for GA is:  [1 1 1 1 1 1 1 1 1 1 1 1 1 1 1 1 1 1 1 1 1 1 1 1 1 1 1 1 1 1 1 1 1 1 1 1 1\n",
      " 1 1 1 1 1 0 1 1 1 1 1 1 1 1 1 1 1 1 1 1 1 1 1 1 1 1 1 1 1 1 1 1 1 1 1 1 1\n",
      " 1 1 1 1 1 1 1 1 1 1 1 1 1 1 1 1 1 1 1 1 1 1 1 1 1 1]\n",
      "The fitness at the best state for GA is:  1478.0\n",
      "run time for GA is:  187.11678338050842\n",
      "The best state found for MIMIC is:  [0 0 0 0 0 0 0 0 0 0 0 0 0 0 0 0 0 0 0 0 0 0 0 0 0 0 0 0 0 0 0 0 0 0 0 0 0\n",
      " 0 0 0 0 0 0 0 0 0 0 0 0 0 0 0 0 0 0 0 0 0 0 0 0 0 0 0 0 0 0 0 0 0 0 0 0 0\n",
      " 0 0 0 0 0 0 0 0 0 0 0 0 0 0 0 0 0 0 0 0 0 0 0 0 0 1]\n",
      "The fitness at the best state for MIMIC is:  1500.0\n",
      "run time for MIMIC is:  52.564696073532104\n"
     ]
    }
   ],
   "source": [
    "# max k Colour\n",
    "\n",
    "all_edges = list(itertools.combinations(list(range(0, 99)), 2)) ## all edges between 0-99, 4950 edges\n",
    "edges = random.sample(all_edges, 1500)\n",
    "\n",
    "\n",
    "fitness = mlrose.MaxKColor(edges) \n",
    "\n",
    "# define a optimization problem object\n",
    "problem = mlrose.DiscreteOpt(length = 100, fitness_fn = fitness,\n",
    "                             maximize = True, max_val = 2)\n",
    "\n",
    "max_attempts = 200\n",
    "max_iters = math.inf\n",
    "\n",
    "# # run randomized hill climbing\n",
    "start_time = time.time()\n",
    "best_state, best_fitness, fitness_curve = mlrose.random_hill_climb(problem, restarts = 100, curve = True,\n",
    "                                                                   max_attempts = max_attempts, max_iters = max_iters,\n",
    "                                                                   random_state = 6)\n",
    "end_time = time.time()\n",
    "rhc_time = end_time - start_time\n",
    "print('The best state found for RHC is: ', best_state)\n",
    "print('The fitness at the best state for RHC is: ', best_fitness)\n",
    "print('run time for RHC is: ', rhc_time)\n",
    "\n",
    "# run simulated annealing\n",
    "start_time = time.time()\n",
    "best_state_SA, best_fitness_SA, fitness_curve_SA = mlrose.simulated_annealing(problem, curve = True,\n",
    "                                                                              max_attempts = max_attempts, \n",
    "                                                                              max_iters = max_iters,\n",
    "                                                                              random_state = 6,\n",
    "                                                                              schedule=mlrose.GeomDecay(init_temp = 100, decay=0.1, min_temp=1)\n",
    "                                                                             )\n",
    "end_time = time.time()\n",
    "sa_time = end_time - start_time\n",
    "print('The best state found for SA is: ', best_state_SA)\n",
    "print('The fitness at the best state for SA is: ', best_fitness_SA)\n",
    "print('run time for SA is: ', sa_time)\n",
    "\n",
    "# run generic algorithm\n",
    "start_time = time.time()\n",
    "best_state_GA, best_fitness_GA, fitness_curve_GA = mlrose.genetic_alg(problem, curve = True,\n",
    "                                                                      max_attempts = max_attempts, max_iters = max_iters,\n",
    "                                                                      random_state = 6, \n",
    "                                                                      pop_size=200,\n",
    "                                                                      mutation_prob=0.001\n",
    "                                                                     )\n",
    "end_time = time.time()\n",
    "ga_time = end_time - start_time\n",
    "print('The best state found for GA is: ', best_state_GA)\n",
    "print('The fitness at the best state for GA is: ', best_fitness_GA)\n",
    "print('run time for GA is: ', ga_time)\n",
    "\n",
    "\n",
    "#run MIMIC\n",
    "start_time = time.time()\n",
    "best_state_MM, best_fitness_MM, fitness_curve_MM = mlrose.mimic(problem, curve = True,\n",
    "                                                                max_attempts = max_attempts, max_iters = max_iters,\n",
    "                                                                fast_mimic=True,\n",
    "                                                                random_state = 6\n",
    "                                                                )\n",
    "end_time = time.time()\n",
    "mimic_time = end_time - start_time\n",
    "print('The best state found for MIMIC is: ', best_state_MM)\n",
    "print('The fitness at the best state for MIMIC is: ', best_fitness_MM)\n",
    "print('run time for MIMIC is: ', mimic_time)"
   ]
  },
  {
   "cell_type": "code",
   "execution_count": 82,
   "id": "KquzonCfnnG2",
   "metadata": {
    "ExecuteTime": {
     "end_time": "2022-10-14T17:23:16.853278Z",
     "start_time": "2022-10-14T17:23:16.846274Z"
    },
    "id": "KquzonCfnnG2"
   },
   "outputs": [
    {
     "name": "stdout",
     "output_type": "stream",
     "text": [
      "60765\n",
      "2734\n",
      "1020\n",
      "211\n"
     ]
    }
   ],
   "source": [
    "print(len(fitness_curve))\n",
    "print(len(fitness_curve_SA))\n",
    "print(len(fitness_curve_GA))\n",
    "print(len(fitness_curve_MM))"
   ]
  },
  {
   "cell_type": "code",
   "execution_count": 83,
   "id": "9297b186",
   "metadata": {
    "ExecuteTime": {
     "end_time": "2022-10-14T17:23:20.372584Z",
     "start_time": "2022-10-14T17:23:20.335189Z"
    },
    "id": "9297b186"
   },
   "outputs": [],
   "source": [
    "## fill fitness curve after reach the max value with the max value\n",
    "max_iters = 1000\n",
    "fitness_RHC, len_RHC = fill_array(max_iters, fitness_curve)\n",
    "fitness_SA, len_SA = fill_array(max_iters, fitness_curve_SA)\n",
    "fitness_GA, len_GA = fill_array(max_iters, fitness_curve_GA)\n",
    "fitness_MM, len_MM = fill_array(max_iters, fitness_curve_MM)"
   ]
  },
  {
   "cell_type": "code",
   "execution_count": 84,
   "id": "120fb6fd",
   "metadata": {
    "ExecuteTime": {
     "end_time": "2022-10-14T17:23:24.196880Z",
     "start_time": "2022-10-14T17:23:23.801113Z"
    },
    "id": "120fb6fd"
   },
   "outputs": [
    {
     "name": "stdout",
     "output_type": "stream",
     "text": [
      "  Algorithm   Time (s)\n",
      "0       RHC   48.65149\n",
      "1        SA    2.00012\n",
      "2        GA  187.11678\n",
      "3     MIMIC   52.56470\n"
     ]
    },
    {
     "data": {
      "image/png": "[encoded data removed]",
      "text/plain": [
       "<Figure size 432x288 with 1 Axes>"
      ]
     },
     "metadata": {
      "needs_background": "light"
     },
     "output_type": "display_data"
    }
   ],
   "source": [
    " # Plot Iterations vs Fitness\n",
    "iterations = range(1, 1001)\n",
    "\n",
    "plt.figure()\n",
    "\n",
    "plt.plot(iterations, fitness_RHC, label='RHC', color='green')\n",
    "plt.plot(iterations, fitness_SA, label='SA', color='red')\n",
    "plt.plot(iterations, fitness_GA, label='GA', color='blue')\n",
    "plt.plot(iterations, fitness_MM, label='MIMIC', color='orange')\n",
    "\n",
    "plt.legend(loc=\"best\")\n",
    "plt.xlabel(\"Iterations\")\n",
    "plt.ylabel(\"Fitness\")\n",
    "plt.title('Fitness curve for max K color problem')\n",
    "\n",
    "data = [('RHC', round(rhc_time, 5)), \n",
    "        ('SA', round(sa_time, 5)), \n",
    "        ('GA', round(ga_time, 5)), \n",
    "        ('MIMIC', round(mimic_time, 5))] \n",
    "\n",
    "df = pd.DataFrame(data, columns =['Algorithm', 'Time (s)']) \n",
    "print(df)"
   ]
  },
  {
   "cell_type": "code",
   "execution_count": 104,
   "id": "2d1d291c",
   "metadata": {
    "ExecuteTime": {
     "end_time": "2022-10-15T09:15:32.463895Z",
     "start_time": "2022-10-15T08:40:57.712766Z"
    },
    "id": "2d1d291c"
   },
   "outputs": [
    {
     "name": "stdout",
     "output_type": "stream",
     "text": [
      "The best state found for RHC is:  [1 1 1 1 1 1 1 1 1 1 1 1 1 1 1 1 1 1 1 1]\n",
      "The fitness at the best state for RHC is:  190.0\n",
      "run time for RHC is:  201.42500853538513\n",
      "The best state found for SA is:  [0 0 0 0 0 0 0 0 0 0 0 0 0 0 0 0 0 0 0 0]\n",
      "The fitness at the best state for SA is:  190.0\n",
      "run time for SA is:  0.159423828125\n",
      "The best state found for GA is:  [1 1 1 1 1 1 1 1 0 1 1 1 1 1 1 1 1 1 1 1]\n",
      "The fitness at the best state for GA is:  173.0\n",
      "run time for GA is:  1868.2282209396362\n",
      "The best state found for MIMIC is:  [0 0 0 0 0 0 0 0 0 0 0 0 0 0 0 0 0 0 0 0]\n",
      "The fitness at the best state for MIMIC is:  190.0\n",
      "run time for MIMIC is:  4.887033224105835\n"
     ]
    }
   ],
   "source": [
    "#8 queens\n",
    "\n",
    "fitness = mlrose.Queens()\n",
    "\n",
    "# define a optimization problem object\n",
    "problem = mlrose.DiscreteOpt(length = 20, fitness_fn = fitness,\n",
    "                             maximize = True, max_val = 2)\n",
    "\n",
    "max_attempts = 200\n",
    "max_iters = math.inf\n",
    "\n",
    "# run randomized hill climbing\n",
    "start_time = time.time()\n",
    "best_state, best_fitness, fitness_curve = mlrose.random_hill_climb(problem, restarts = 1000, curve = True,\n",
    "                                                                   max_attempts = max_attempts, max_iters = max_iters,\n",
    "                                                                   random_state = 6)\n",
    "end_time = time.time()\n",
    "rhc_time = end_time - start_time\n",
    "print('The best state found for RHC is: ', best_state)\n",
    "print('The fitness at the best state for RHC is: ', best_fitness)\n",
    "print('run time for RHC is: ', rhc_time)\n",
    "\n",
    "# run simulated annealing\n",
    "start_time = time.time()\n",
    "best_state_SA, best_fitness_SA, fitness_curve_SA = mlrose.simulated_annealing(problem, curve = True,\n",
    "                                                                              max_attempts = max_attempts, \n",
    "                                                                              max_iters = max_iters,\n",
    "                                                                              random_state = 6,\n",
    "                                                                              schedule=mlrose.GeomDecay(init_temp = 100, decay=0.1, min_temp=1)\n",
    "                                                                             )\n",
    "end_time = time.time()\n",
    "sa_time = end_time - start_time\n",
    "print('The best state found for SA is: ', best_state_SA)\n",
    "print('The fitness at the best state for SA is: ', best_fitness_SA)\n",
    "print('run time for SA is: ', sa_time)\n",
    "\n",
    "# run generic algorithm\n",
    "start_time = time.time()\n",
    "best_state_GA, best_fitness_GA, fitness_curve_GA = mlrose.genetic_alg(problem, curve = True,\n",
    "                                                                      max_attempts = max_attempts, max_iters = max_iters,\n",
    "                                                                      random_state = 6\n",
    "                                                                     )\n",
    "end_time = time.time()\n",
    "ga_time = end_time - start_time\n",
    "print('The best state found for GA is: ', best_state_GA)\n",
    "print('The fitness at the best state for GA is: ', best_fitness_GA)\n",
    "print('run time for GA is: ', ga_time)\n",
    "\n",
    "\n",
    "# run MIMIC\n",
    "start_time = time.time()\n",
    "best_state_MM, best_fitness_MM, fitness_curve_MM = mlrose.mimic(problem, curve = True,\n",
    "                                                                max_attempts = max_attempts, max_iters = max_iters,\n",
    "                                                                fast_mimic=True,\n",
    "                                                                random_state = 42\n",
    "                                                                )\n",
    "end_time = time.time()\n",
    "mimic_time = end_time - start_time\n",
    "print('The best state found for MIMIC is: ', best_state_MM)\n",
    "print('The fitness at the best state for MIMIC is: ', best_fitness_MM)\n",
    "print('run time for MIMIC is: ', mimic_time)"
   ]
  },
  {
   "cell_type": "code",
   "execution_count": 113,
   "id": "younger-daniel",
   "metadata": {
    "ExecuteTime": {
     "end_time": "2022-10-15T09:27:00.076059Z",
     "start_time": "2022-10-15T09:27:00.055360Z"
    }
   },
   "outputs": [
    {
     "name": "stdout",
     "output_type": "stream",
     "text": [
      "254944\n",
      "250\n",
      "252\n",
      "204\n"
     ]
    }
   ],
   "source": [
    "print(len(fitness_curve))\n",
    "print(len(fitness_curve_SA))\n",
    "print(len(fitness_curve_GA))\n",
    "print(len(fitness_curve_MM))"
   ]
  },
  {
   "cell_type": "code",
   "execution_count": 114,
   "id": "impaired-determination",
   "metadata": {
    "ExecuteTime": {
     "end_time": "2022-10-15T09:27:00.935954Z",
     "start_time": "2022-10-15T09:27:00.897164Z"
    }
   },
   "outputs": [],
   "source": [
    "max_iters = 1000\n",
    "fitness_RHC, len_RHC = fill_array(max_iters, fitness_curve)\n",
    "fitness_SA, len_SA = fill_array(max_iters, fitness_curve_SA)\n",
    "fitness_GA, len_GA = fill_array(max_iters, fitness_curve_GA)\n",
    "fitness_MM, len_MM = fill_array(max_iters, fitness_curve_MM)"
   ]
  },
  {
   "cell_type": "code",
   "execution_count": 115,
   "id": "extreme-boost",
   "metadata": {
    "ExecuteTime": {
     "end_time": "2022-10-15T09:27:02.200809Z",
     "start_time": "2022-10-15T09:27:01.955450Z"
    }
   },
   "outputs": [
    {
     "name": "stdout",
     "output_type": "stream",
     "text": [
      "  Algorithm    Time (s)\n",
      "0       RHC   201.42501\n",
      "1        SA     0.15942\n",
      "2        GA  1868.22822\n",
      "3     MIMIC     4.88703\n"
     ]
    },
    {
     "data": {
      "image/png": "[encoded data removed]",
      "text/plain": [
       "<Figure size 432x288 with 1 Axes>"
      ]
     },
     "metadata": {
      "needs_background": "light"
     },
     "output_type": "display_data"
    }
   ],
   "source": [
    "iterations = range(1, 1001)\n",
    "\n",
    "plt.figure()\n",
    "\n",
    "plt.plot(iterations, fitness_RHC, label='RHC', color='green')\n",
    "plt.plot(iterations, fitness_SA, label='SA', color='red')\n",
    "plt.plot(iterations, fitness_GA, label='GA', color='blue')\n",
    "plt.plot(iterations, fitness_MM, label='MIMIC', color='orange')\n",
    "\n",
    "plt.legend(loc=\"best\")\n",
    "plt.xlabel(\"Iterations\")\n",
    "plt.ylabel(\"Fitness\")\n",
    "plt.title('Fitness curve for N Queens Problem')\n",
    "\n",
    "data = [('RHC', round(rhc_time, 5)), \n",
    "        ('SA', round(sa_time, 5)), \n",
    "        ('GA', round(ga_time, 5)), \n",
    "        ('MIMIC', round(mimic_time, 5))] \n",
    "\n",
    "df = pd.DataFrame(data, columns =['Algorithm', 'Time (s)']) \n",
    "print(df)"
   ]
  },
  {
   "cell_type": "markdown",
   "id": "guilty-response",
   "metadata": {},
   "source": [
    "## Part 2 Randomized Optimation NN"
   ]
  },
  {
   "cell_type": "code",
   "execution_count": 172,
   "id": "latter-parallel",
   "metadata": {
    "ExecuteTime": {
     "end_time": "2022-10-15T14:20:36.885308Z",
     "start_time": "2022-10-15T14:20:36.852814Z"
    }
   },
   "outputs": [],
   "source": [
    "import pandas as pd\n",
    "import matplotlib.pyplot as plt\n",
    "import numpy as np\n",
    "import mlrose\n",
    "import mlrose_hiive\n",
    "import time\n",
    "from sklearn.model_selection import train_test_split\n",
    "from sklearn import preprocessing\n",
    "from sklearn.preprocessing import OneHotEncoder, LabelEncoder, MinMaxScaler\n",
    "from sklearn import metrics\n",
    "from sklearn.model_selection import StratifiedKFold\n",
    "import seaborn as sns\n",
    "from sklearn.neural_network import MLPClassifier\n",
    "from sklearn.neural_network import MLPRegressor"
   ]
  },
  {
   "cell_type": "code",
   "execution_count": 173,
   "id": "congressional-advancement",
   "metadata": {
    "ExecuteTime": {
     "end_time": "2022-10-15T14:21:04.666473Z",
     "start_time": "2022-10-15T14:21:04.374565Z"
    }
   },
   "outputs": [],
   "source": [
    "df_bank_churn = pd.read_csv('bankchurn.csv')\n",
    "#clean ups\n",
    "df_bank_churn = df_bank_churn.drop(columns=['RowNumber','Surname','CustomerId'], axis = 1)\n",
    "df_bank_churn['Gender'] = df_bank_churn['Gender'].apply(lambda x: 1 if x == 'Male' else 0)\n",
    "df_bank_churn['Geography'] = df_bank_churn['Geography'].apply(lambda x: 0 if x== 'France' else x)\n",
    "df_bank_churn['Geography'] = df_bank_churn['Geography'].apply(lambda x: 1 if x== 'Spain' else x)\n",
    "df_bank_churn['Geography'] = df_bank_churn['Geography'].apply(lambda x: 2 if x== 'Germany' else x)\n",
    "\n",
    "\n",
    "target_column = ['Exited'] \n",
    "predictors = list(set(list(df_bank_churn.columns))-set(target_column))\n",
    "df_bank_churn[predictors] = df_bank_churn[predictors]/df_bank_churn[predictors].max()\n",
    "\n",
    "X = df_bank_churn[predictors].values\n",
    "y = df_bank_churn[target_column].values\n",
    "\n",
    "X_train, X_test, y_train, y_test = train_test_split(X, y, test_size=0.40, random_state=6)\n",
    "\n",
    "\n",
    "one_hot = OneHotEncoder()\n",
    "\n",
    "train_labels_onehot = one_hot.fit_transform(y_train.reshape(-1, 1)).todense()\n",
    "test_labels_onehot = one_hot.transform(y_test.reshape(-1, 1)).todense()\n",
    "\n",
    "\n",
    "label = LabelEncoder()\n",
    "train_labels_label = label.fit_transform(y_train)\n",
    "test_labels_label = label.fit_transform(y_test)\n",
    "\n",
    "# normalize x\n",
    "scaler = MinMaxScaler()\n",
    "\n",
    "train_features = scaler.fit_transform(X_train)\n",
    "test_features = scaler.transform(X_test)"
   ]
  },
  {
   "cell_type": "code",
   "execution_count": 174,
   "id": "flying-glass",
   "metadata": {
    "ExecuteTime": {
     "end_time": "2022-10-15T14:22:04.746620Z",
     "start_time": "2022-10-15T14:21:20.350911Z"
    }
   },
   "outputs": [
    {
     "name": "stdout",
     "output_type": "stream",
     "text": [
      "train time: 44.36055302619934\n",
      "accuracy: 0.8365\n"
     ]
    }
   ],
   "source": [
    "clf = mlrose.NeuralNetwork(hidden_nodes=[10,10,10], activation='relu',\n",
    "                           algorithm = 'gradient_descent',early_stopping = False, \n",
    "                           max_attempts = 100, max_iters = 2500, clip_max = 5,\n",
    "                           bias = True, learning_rate = 0.00001,\n",
    "                           curve = True, random_state=42)\n",
    "\n",
    "start_time = time.time()\n",
    "clf.fit(train_features, train_labels_onehot)\n",
    "end_time = time.time()\n",
    "base_time = end_time-start_time\n",
    "y_pred = clf.predict(test_features)\n",
    "gd_score = metrics.accuracy_score(test_labels_onehot, y_pred)\n",
    "gd_fitness_curve = clf.fitness_curve\n",
    "\n",
    "print('train time:', base_time)\n",
    "print('accuracy:', gd_score)"
   ]
  },
  {
   "cell_type": "code",
   "execution_count": 175,
   "id": "aboriginal-restriction",
   "metadata": {
    "ExecuteTime": {
     "end_time": "2022-10-15T14:22:04.934871Z",
     "start_time": "2022-10-15T14:22:04.752743Z"
    }
   },
   "outputs": [
    {
     "data": {
      "text/plain": [
       "Text(0.5, 1.0, 'Loss curve for NN with gradient descent')"
      ]
     },
     "execution_count": 175,
     "metadata": {},
     "output_type": "execute_result"
    },
    {
     "data": {
      "image/png": "[encoded data removed]",
      "text/plain": [
       "<Figure size 432x288 with 1 Axes>"
      ]
     },
     "metadata": {
      "needs_background": "light"
     },
     "output_type": "display_data"
    }
   ],
   "source": [
    "gd_fitness_curve = [ -x for x in gd_fitness_curve]\n",
    "\n",
    "plt.figure()\n",
    "\n",
    "plt.plot(gd_fitness_curve)\n",
    "plt.xlabel(\"Iterations\")\n",
    "plt.ylabel(\"Loss\")\n",
    "plt.title('Loss curve for NN with gradient descent')"
   ]
  },
  {
   "cell_type": "code",
   "execution_count": 176,
   "id": "accredited-variance",
   "metadata": {
    "ExecuteTime": {
     "end_time": "2022-10-15T14:26:07.940041Z",
     "start_time": "2022-10-15T14:22:47.280957Z"
    }
   },
   "outputs": [
    {
     "name": "stdout",
     "output_type": "stream",
     "text": [
      "[1, 'gradient_descent', 0.726, 0.74225]\n",
      "[251, 'gradient_descent', 0.798, 0.79575]\n",
      "[501, 'gradient_descent', 0.7978333333333333, 0.7965]\n",
      "[751, 'gradient_descent', 0.807, 0.80425]\n",
      "[1001, 'gradient_descent', 0.8141666666666667, 0.8095]\n",
      "[1251, 'gradient_descent', 0.8205, 0.816]\n",
      "[1501, 'gradient_descent', 0.8243333333333334, 0.81875]\n",
      "[1751, 'gradient_descent', 0.8318333333333333, 0.82475]\n",
      "[2001, 'gradient_descent', 0.8383333333333334, 0.83275]\n",
      "[2251, 'gradient_descent', 0.8398333333333333, 0.83225]\n"
     ]
    }
   ],
   "source": [
    "results = []\n",
    "for i in range(1, 2501,250):\n",
    "        clf = mlrose.NeuralNetwork(hidden_nodes=[10,10,10], activation='relu',\n",
    "                                   algorithm ='gradient_descent',early_stopping = False, \n",
    "                                   max_attempts = 100, max_iters = i, clip_max = 5,\n",
    "                                   bias = True, learning_rate = 0.00001,\n",
    "                                   curve = False, random_state=42)\n",
    "        clf.fit(train_features, train_labels_onehot)\n",
    "        y_train_pred = clf.predict(train_features)\n",
    "        y_train_accuracy = metrics.accuracy_score(train_labels_onehot, y_train_pred)\n",
    "\n",
    "        y_pred = clf.predict(test_features)\n",
    "        y_test_accuracy = metrics.accuracy_score(test_labels_onehot, y_pred)\n",
    "\n",
    "        results.append([i, 'gradient_descent', y_train_accuracy, y_test_accuracy])\n",
    "        print([i, 'gradient_descent', y_train_accuracy, y_test_accuracy])"
   ]
  },
  {
   "cell_type": "code",
   "execution_count": 178,
   "id": "copyrighted-award",
   "metadata": {
    "ExecuteTime": {
     "end_time": "2022-10-15T14:28:43.538384Z",
     "start_time": "2022-10-15T14:28:43.334233Z"
    }
   },
   "outputs": [
    {
     "data": {
      "text/plain": [
       "<matplotlib.legend.Legend at 0x1bb008e39a0>"
      ]
     },
     "execution_count": 178,
     "metadata": {},
     "output_type": "execute_result"
    },
    {
     "data": {
      "image/png": "[encoded data removed]",
      "text/plain": [
       "<Figure size 432x288 with 1 Axes>"
      ]
     },
     "metadata": {
      "needs_background": "light"
     },
     "output_type": "display_data"
    }
   ],
   "source": [
    "df = pd.DataFrame(results, columns=[\"Iterations\", \"Algorithm\", \"Train_Accuracy\", \"Test_Accuracy\"])\n",
    "plt.figure()\n",
    "plt.plot(df['Iterations'], df['Train_Accuracy'], marker='o')\n",
    "plt.ylabel('Accuracy')\n",
    "plt.title('Learning Curve (NN on Gradient Descent)')\n",
    "plt.plot(df['Iterations'], df['Test_Accuracy'], marker='d')\n",
    "plt.xlabel('Iterations')\n",
    "plt.legend(['train', 'test'])"
   ]
  },
  {
   "cell_type": "code",
   "execution_count": 183,
   "id": "protected-restoration",
   "metadata": {
    "ExecuteTime": {
     "end_time": "2022-10-15T14:47:45.623111Z",
     "start_time": "2022-10-15T14:47:25.110650Z"
    }
   },
   "outputs": [
    {
     "name": "stdout",
     "output_type": "stream",
     "text": [
      "train time: 20.48890972137451\n",
      "accuracy: 0.8315\n"
     ]
    }
   ],
   "source": [
    "## RHC\n",
    "clf = mlrose.NeuralNetwork(hidden_nodes=[10,10,10], activation='relu',\n",
    "                           algorithm = 'random_hill_climb',early_stopping = False, \n",
    "                           max_attempts = 1000, max_iters = 2500, clip_max = 5,\n",
    "                           bias = True, learning_rate = 1,\n",
    "                           curve = True, random_state=6)\n",
    "start_time = time.time()\n",
    "clf.fit(train_features, train_labels_onehot)\n",
    "end_time = time.time()\n",
    "rhc_time = end_time-start_time\n",
    "y_pred = clf.predict(test_features)\n",
    "rhc_score = metrics.accuracy_score(test_labels_onehot, y_pred)\n",
    "rhc_fitness_curve = clf.fitness_curve\n",
    "\n",
    "print('train time:', rhc_time)\n",
    "print('accuracy:', rhc_score)"
   ]
  },
  {
   "cell_type": "code",
   "execution_count": 187,
   "id": "accessible-throw",
   "metadata": {
    "ExecuteTime": {
     "end_time": "2022-10-15T14:52:46.248108Z",
     "start_time": "2022-10-15T14:52:46.067163Z"
    }
   },
   "outputs": [
    {
     "data": {
      "text/plain": [
       "Text(0.5, 1.0, 'Loss curve NN (RHC)')"
      ]
     },
     "execution_count": 187,
     "metadata": {},
     "output_type": "execute_result"
    },
    {
     "data": {
      "image/png": "[encoded data removed]",
      "text/plain": [
       "<Figure size 432x288 with 1 Axes>"
      ]
     },
     "metadata": {
      "needs_background": "light"
     },
     "output_type": "display_data"
    }
   ],
   "source": [
    "rhc_fitness_curve = [ -x for x in rhc_fitness_curve]\n",
    "\n",
    "plt.figure()\n",
    "\n",
    "plt.plot(rhc_fitness_curve)\n",
    "plt.xlabel(\"Iterations\")\n",
    "plt.ylabel(\"Loss\")\n",
    "plt.title('Loss curve NN (RHC)')"
   ]
  },
  {
   "cell_type": "code",
   "execution_count": 184,
   "id": "sexual-distributor",
   "metadata": {
    "ExecuteTime": {
     "end_time": "2022-10-15T14:50:55.923804Z",
     "start_time": "2022-10-15T14:49:04.029668Z"
    }
   },
   "outputs": [
    {
     "name": "stdout",
     "output_type": "stream",
     "text": [
      "[1, 'random_hill_climb', 0.32133333333333336, 0.33575]\n",
      "[251, 'random_hill_climb', 0.6721666666666667, 0.67175]\n",
      "[501, 'random_hill_climb', 0.797, 0.796]\n",
      "[751, 'random_hill_climb', 0.7971666666666667, 0.79525]\n",
      "[1001, 'random_hill_climb', 0.7971666666666667, 0.795]\n",
      "[1251, 'random_hill_climb', 0.7971666666666667, 0.795]\n",
      "[1501, 'random_hill_climb', 0.7996666666666666, 0.798]\n",
      "[1751, 'random_hill_climb', 0.7998333333333333, 0.79725]\n",
      "[2001, 'random_hill_climb', 0.8016666666666666, 0.797]\n",
      "[2251, 'random_hill_climb', 0.8061666666666667, 0.803]\n"
     ]
    }
   ],
   "source": [
    "results = []\n",
    "\n",
    "for i in range(1, 2501, 250):\n",
    "        clf = mlrose.NeuralNetwork(hidden_nodes=[10,10,10], activation='relu',\n",
    "                                   algorithm ='random_hill_climb',early_stopping = False, \n",
    "                                   max_attempts = 1000, max_iters = i, clip_max = 5,\n",
    "                                   bias = True, learning_rate = 0.1,\n",
    "                                   curve = False, random_state=6)\n",
    "        clf.fit(train_features, train_labels_onehot)\n",
    "        y_train_pred = clf.predict(train_features)\n",
    "        y_train_accuracy = metrics.accuracy_score(train_labels_onehot, y_train_pred)\n",
    "\n",
    "        y_pred = clf.predict(test_features)\n",
    "        y_test_accuracy = metrics.accuracy_score(test_labels_onehot, y_pred)\n",
    "\n",
    "        results.append([i, 'random_hill_climb', y_train_accuracy, y_test_accuracy])\n",
    "        print([i, 'random_hill_climb', y_train_accuracy, y_test_accuracy])"
   ]
  },
  {
   "cell_type": "code",
   "execution_count": 186,
   "id": "after-trailer",
   "metadata": {
    "ExecuteTime": {
     "end_time": "2022-10-15T14:52:25.250654Z",
     "start_time": "2022-10-15T14:52:25.047440Z"
    }
   },
   "outputs": [
    {
     "data": {
      "text/plain": [
       "<matplotlib.legend.Legend at 0x1bb00abc340>"
      ]
     },
     "execution_count": 186,
     "metadata": {},
     "output_type": "execute_result"
    },
    {
     "data": {
      "image/png": "[encoded data removed]",
      "text/plain": [
       "<Figure size 432x288 with 1 Axes>"
      ]
     },
     "metadata": {
      "needs_background": "light"
     },
     "output_type": "display_data"
    }
   ],
   "source": [
    "df = pd.DataFrame(results, columns=[\"Iterations\", \"Algorithm\", \"Train_Accuracy\", \"Test_Accuracy\"])\n",
    "plt.figure()\n",
    "plt.plot(df['Iterations'], df['Train_Accuracy'], marker='o')\n",
    "plt.ylabel('Accuracy')\n",
    "plt.title('Learning Curve NN (RHC)')\n",
    "plt.plot(df['Iterations'], df['Test_Accuracy'], marker='d')\n",
    "plt.xlabel('Iterations')\n",
    "plt.legend(['train', 'test'])"
   ]
  },
  {
   "cell_type": "code",
   "execution_count": 188,
   "id": "palestinian-keeping",
   "metadata": {
    "ExecuteTime": {
     "end_time": "2022-10-15T15:03:09.367538Z",
     "start_time": "2022-10-15T15:02:35.347781Z"
    }
   },
   "outputs": [
    {
     "name": "stdout",
     "output_type": "stream",
     "text": [
      "train time: 33.990243434906006\n",
      "accuracy: 0.509\n"
     ]
    }
   ],
   "source": [
    "## SA\n",
    "clf = mlrose.NeuralNetwork(hidden_nodes=[10,10,10], activation='relu',\n",
    "                           algorithm = 'simulated_annealing',early_stopping = False, \n",
    "                           max_attempts = 1000, max_iters = 2500, clip_max = 5,\n",
    "                           bias = True, learning_rate = 0.1,schedule=mlrose.GeomDecay(init_temp = 100, decay=0.1, min_temp=1),\n",
    "                           curve = True, random_state=6)\n",
    "start_time = time.time()\n",
    "clf.fit(train_features, train_labels_onehot)\n",
    "end_time = time.time()\n",
    "sa_time = end_time-start_time\n",
    "y_pred = clf.predict(test_features)\n",
    "sa_score = metrics.accuracy_score(test_labels_onehot, y_pred)\n",
    "sa_fitness_curve = clf.fitness_curve\n",
    "\n",
    "print('train time:', sa_time)\n",
    "print('accuracy:', sa_score)"
   ]
  },
  {
   "cell_type": "code",
   "execution_count": 189,
   "id": "structured-planet",
   "metadata": {
    "ExecuteTime": {
     "end_time": "2022-10-15T15:03:39.136996Z",
     "start_time": "2022-10-15T15:03:38.953599Z"
    }
   },
   "outputs": [
    {
     "data": {
      "text/plain": [
       "Text(0.5, 1.0, 'Loss curve for NN (SA)')"
      ]
     },
     "execution_count": 189,
     "metadata": {},
     "output_type": "execute_result"
    },
    {
     "data": {
      "image/png": "[encoded data removed]",
      "text/plain": [
       "<Figure size 432x288 with 1 Axes>"
      ]
     },
     "metadata": {
      "needs_background": "light"
     },
     "output_type": "display_data"
    }
   ],
   "source": [
    "sa_fitness_curve = [ -x for x in sa_fitness_curve]\n",
    "\n",
    "plt.figure()\n",
    "\n",
    "plt.plot(sa_fitness_curve)\n",
    "plt.xlabel(\"Iterations\")\n",
    "plt.ylabel(\"Loss\")\n",
    "plt.title('Loss curve for NN (SA)')"
   ]
  },
  {
   "cell_type": "code",
   "execution_count": 190,
   "id": "medical-attribute",
   "metadata": {
    "ExecuteTime": {
     "end_time": "2022-10-15T15:06:25.917751Z",
     "start_time": "2022-10-15T15:03:55.787626Z"
    }
   },
   "outputs": [
    {
     "name": "stdout",
     "output_type": "stream",
     "text": [
      "[1, 'simulated_annealing', 0.32133333333333336, 0.3355]\n",
      "[251, 'simulated_annealing', 0.31166666666666665, 0.31425]\n",
      "[501, 'simulated_annealing', 0.34983333333333333, 0.35475]\n",
      "[751, 'simulated_annealing', 0.445, 0.442]\n",
      "[1001, 'simulated_annealing', 0.6358333333333334, 0.637]\n",
      "[1251, 'simulated_annealing', 0.5086666666666667, 0.498]\n",
      "[1501, 'simulated_annealing', 0.718, 0.71825]\n",
      "[1751, 'simulated_annealing', 0.6375, 0.63025]\n",
      "[2001, 'simulated_annealing', 0.30966666666666665, 0.31425]\n",
      "[2251, 'simulated_annealing', 0.4876666666666667, 0.4775]\n"
     ]
    }
   ],
   "source": [
    "results = []\n",
    "\n",
    "\n",
    "for i in range(1, 2501, 250):\n",
    "        clf = mlrose.NeuralNetwork(hidden_nodes=[10,10,10], activation='relu',\n",
    "                                   algorithm ='simulated_annealing',early_stopping = False, \n",
    "                                   max_attempts = 1000, max_iters = i, clip_max = 5,\n",
    "                                   bias = True, learning_rate = 0.1,schedule=mlrose.GeomDecay(init_temp = 100, decay=0.1, min_temp=1),\n",
    "                                   curve = False, random_state=6)\n",
    "        clf.fit(train_features, train_labels_onehot)\n",
    "        y_train_pred = clf.predict(train_features)\n",
    "        y_train_accuracy = metrics.accuracy_score(train_labels_onehot, y_train_pred)\n",
    "\n",
    "        y_pred = clf.predict(test_features)\n",
    "        y_test_accuracy = metrics.accuracy_score(test_labels_onehot, y_pred)\n",
    "\n",
    "        results.append([i, 'simulated_annealing', y_train_accuracy, y_test_accuracy])\n",
    "        print([i, 'simulated_annealing', y_train_accuracy, y_test_accuracy])"
   ]
  },
  {
   "cell_type": "code",
   "execution_count": 192,
   "id": "broad-wealth",
   "metadata": {
    "ExecuteTime": {
     "end_time": "2022-10-15T15:09:30.320883Z",
     "start_time": "2022-10-15T15:09:30.095944Z"
    }
   },
   "outputs": [
    {
     "data": {
      "text/plain": [
       "<matplotlib.legend.Legend at 0x1bb006e80a0>"
      ]
     },
     "execution_count": 192,
     "metadata": {},
     "output_type": "execute_result"
    },
    {
     "data": {
      "image/png": "[encoded data removed]",
      "text/plain": [
       "<Figure size 432x288 with 1 Axes>"
      ]
     },
     "metadata": {
      "needs_background": "light"
     },
     "output_type": "display_data"
    }
   ],
   "source": [
    "df = pd.DataFrame(results, columns=[\"Iterations\", \"Algorithm\", \"Train_Accuracy\", \"Test_Accuracy\"])\n",
    "plt.figure()\n",
    "plt.plot(df['Iterations'], df['Train_Accuracy'], marker='o')\n",
    "plt.ylabel('Accuracy')\n",
    "plt.title('Learning Curve NN (SA)')\n",
    "plt.plot(df['Iterations'], df['Test_Accuracy'], marker='d')\n",
    "plt.xlabel('Iterations')\n",
    "plt.legend(['train', 'test'])"
   ]
  },
  {
   "cell_type": "code",
   "execution_count": 195,
   "id": "functioning-volume",
   "metadata": {
    "ExecuteTime": {
     "end_time": "2022-10-15T15:43:36.635563Z",
     "start_time": "2022-10-15T15:38:04.904382Z"
    }
   },
   "outputs": [
    {
     "name": "stdout",
     "output_type": "stream",
     "text": [
      "[200, 0.05, 500, 0.797, 16.623430252075195]\n",
      "[200, 0.05, 1000, 0.797, 18.075079679489136]\n",
      "[200, 0.1, 500, 0.769, 18.175957202911377]\n",
      "[200, 0.1, 1000, 0.769, 24.17591094970703]\n",
      "[500, 0.05, 500, 0.76, 50.984235525131226]\n",
      "[500, 0.05, 1000, 0.76, 43.68182682991028]\n",
      "[500, 0.1, 500, 0.77825, 93.02092266082764]\n",
      "[500, 0.1, 1000, 0.77825, 66.90659642219543]\n"
     ]
    }
   ],
   "source": [
    "#GA\n",
    "results = []\n",
    "\n",
    "max_iters = 10\n",
    "\n",
    "max_attempts_list = [500, 1000]\n",
    "pop_size_list = [200, 500]\n",
    "mutation_prob_list = [0.05, 0.1]\n",
    "\n",
    "# run generic algorithm\n",
    "for pop in pop_size_list:\n",
    "  for mutation in mutation_prob_list:\n",
    "    for max_attempt in max_attempts_list:\n",
    "        clf = mlrose.NeuralNetwork(hidden_nodes=[10,10,10], activation='relu',\n",
    "                                  algorithm = 'genetic_alg',early_stopping = False, \n",
    "                                  max_attempts = max_attempt, max_iters = max_iters, clip_max = 5,\n",
    "                                  bias = True, learning_rate = 0.1, pop_size=pop, mutation_prob=mutation,\n",
    "                                  curve = False, random_state=6)\n",
    "        start_time = time.time()\n",
    "        clf.fit(train_features, train_labels_onehot)\n",
    "        end_time = time.time()\n",
    "        ga_time = end_time-start_time\n",
    "        y_pred = clf.predict(test_features)\n",
    "        ga_score = metrics.accuracy_score(test_labels_onehot, y_pred)\n",
    "\n",
    "        results.append([pop, mutation, max_attempt, 'GA', ga_score, ga_time])\n",
    "        print([pop, mutation, max_attempt, ga_score, ga_time])"
   ]
  },
  {
   "cell_type": "code",
   "execution_count": 196,
   "id": "supported-webcam",
   "metadata": {
    "ExecuteTime": {
     "end_time": "2022-10-15T15:45:23.893413Z",
     "start_time": "2022-10-15T15:45:08.464581Z"
    }
   },
   "outputs": [
    {
     "name": "stdout",
     "output_type": "stream",
     "text": [
      "train time: 15.37125825881958\n",
      "accuracy: 0.797\n"
     ]
    }
   ],
   "source": [
    "#GA\n",
    "clf = mlrose.NeuralNetwork(hidden_nodes=[10,10,10], activation='relu',\n",
    "                           algorithm = 'genetic_alg',early_stopping = False, \n",
    "                           max_attempts = 500, max_iters = 10, clip_max = 5,\n",
    "                           bias = True, learning_rate = 0.1, pop_size=200, mutation_prob=0.05,\n",
    "                           curve = True, random_state=6)\n",
    "start_time = time.time()\n",
    "clf.fit(train_features, train_labels_onehot)\n",
    "end_time = time.time()\n",
    "ga_time = end_time-start_time\n",
    "y_pred = clf.predict(test_features)\n",
    "ga_score = metrics.accuracy_score(test_labels_onehot, y_pred)\n",
    "ga_fitness_curve = clf.fitness_curve\n",
    "ga_fitness_weight = clf.fitted_weights \n",
    "\n",
    "print('train time:', ga_time)\n",
    "print('accuracy:', ga_score)\n",
    "#print(ga_fitness_weight)"
   ]
  },
  {
   "cell_type": "code",
   "execution_count": 197,
   "id": "presidential-reservation",
   "metadata": {
    "ExecuteTime": {
     "end_time": "2022-10-15T15:46:13.182780Z",
     "start_time": "2022-10-15T15:46:12.815506Z"
    }
   },
   "outputs": [
    {
     "data": {
      "text/plain": [
       "Text(0.5, 1.0, 'Loss curve for NN with GA')"
      ]
     },
     "execution_count": 197,
     "metadata": {},
     "output_type": "execute_result"
    },
    {
     "data": {
      "image/png": "[encoded data removed]",
      "text/plain": [
       "<Figure size 432x288 with 1 Axes>"
      ]
     },
     "metadata": {
      "needs_background": "light"
     },
     "output_type": "display_data"
    }
   ],
   "source": [
    "ga_fitness_curve = [ -x for x in ga_fitness_curve]\n",
    "\n",
    "plt.figure()\n",
    "\n",
    "plt.plot(ga_fitness_curve)\n",
    "plt.xlabel(\"Iterations\")\n",
    "plt.ylabel(\"Loss\")\n",
    "plt.title('Loss curve for NN with GA')"
   ]
  },
  {
   "cell_type": "code",
   "execution_count": 202,
   "id": "separate-trailer",
   "metadata": {
    "ExecuteTime": {
     "end_time": "2022-10-15T15:52:44.826939Z",
     "start_time": "2022-10-15T15:52:16.773690Z"
    }
   },
   "outputs": [
    {
     "name": "stdout",
     "output_type": "stream",
     "text": [
      "[1, 'genetic_alg', 0.7895, 0.79225]\n",
      "[6, 'genetic_alg', 0.801, 0.797]\n",
      "[11, 'genetic_alg', 0.801, 0.797]\n"
     ]
    }
   ],
   "source": [
    "results = []\n",
    "\n",
    "for i in range(1, 12, 5):\n",
    "        clf = mlrose.NeuralNetwork(hidden_nodes=[10,10,10], activation='relu',\n",
    "                           algorithm = 'genetic_alg',early_stopping = False, \n",
    "                           max_attempts = 500, max_iters = i, clip_max = 5,\n",
    "                           bias = True, learning_rate = 0.1, pop_size=200, mutation_prob=0.05,\n",
    "                           curve = True, random_state=6)\n",
    "        clf.fit(train_features, train_labels_onehot)\n",
    "        y_train_pred = clf.predict(train_features)\n",
    "        y_train_accuracy = metrics.accuracy_score(train_labels_onehot, y_train_pred)\n",
    "\n",
    "        y_pred = clf.predict(test_features)\n",
    "        y_test_accuracy = metrics.accuracy_score(test_labels_onehot, y_pred)\n",
    "\n",
    "        results.append([i, 'genetic_alg', y_train_accuracy, y_test_accuracy])\n",
    "        print([i, 'genetic_alg', y_train_accuracy, y_test_accuracy])"
   ]
  },
  {
   "cell_type": "code",
   "execution_count": 203,
   "id": "saved-reply",
   "metadata": {
    "ExecuteTime": {
     "end_time": "2022-10-15T15:52:52.345897Z",
     "start_time": "2022-10-15T15:52:52.082423Z"
    }
   },
   "outputs": [
    {
     "data": {
      "text/plain": [
       "<matplotlib.legend.Legend at 0x1bb00d6b4c0>"
      ]
     },
     "execution_count": 203,
     "metadata": {},
     "output_type": "execute_result"
    },
    {
     "data": {
      "image/png": "[encoded data removed]",
      "text/plain": [
       "<Figure size 432x288 with 1 Axes>"
      ]
     },
     "metadata": {
      "needs_background": "light"
     },
     "output_type": "display_data"
    }
   ],
   "source": [
    "df = pd.DataFrame(results, columns=[\"Iterations\", \"Algorithm\", \"Train_Accuracy\", \"Test_Accuracy\"])\n",
    "plt.figure()\n",
    "plt.plot(df['Iterations'], df['Train_Accuracy'], marker='o')\n",
    "plt.ylabel('Accuracy')\n",
    "plt.title('Learning Curve NN (GA)')\n",
    "plt.plot(df['Iterations'], df['Test_Accuracy'], marker='d')\n",
    "plt.xlabel('Iterations')\n",
    "plt.legend(['train', 'test'])"
   ]
  },
  {
   "cell_type": "code",
   "execution_count": 205,
   "id": "outer-expansion",
   "metadata": {
    "ExecuteTime": {
     "end_time": "2022-10-15T16:19:01.165470Z",
     "start_time": "2022-10-15T16:17:19.942425Z"
    }
   },
   "outputs": [
    {
     "name": "stdout",
     "output_type": "stream",
     "text": [
      "[1, 'random_hill_climb', 0.32133333333333336, 0.33575]\n",
      "[251, 'random_hill_climb', 0.6721666666666667, 0.67175]\n",
      "[501, 'random_hill_climb', 0.797, 0.796]\n",
      "[751, 'random_hill_climb', 0.7971666666666667, 0.79525]\n",
      "[1001, 'random_hill_climb', 0.7971666666666667, 0.795]\n",
      "[1251, 'random_hill_climb', 0.7971666666666667, 0.795]\n",
      "[1501, 'random_hill_climb', 0.7996666666666666, 0.798]\n",
      "[1751, 'random_hill_climb', 0.7998333333333333, 0.79725]\n",
      "[2001, 'random_hill_climb', 0.8016666666666666, 0.797]\n",
      "[2251, 'random_hill_climb', 0.8061666666666667, 0.803]\n"
     ]
    }
   ],
   "source": [
    "for i in range(1, 2501, 250):\n",
    "        clf = mlrose.NeuralNetwork(hidden_nodes=[10,10,10], activation='relu',\n",
    "                                   algorithm ='random_hill_climb',early_stopping = False, \n",
    "                                   max_attempts = 1000, max_iters = i, clip_max = 5,\n",
    "                                   bias = True, learning_rate = 0.1,\n",
    "                                   curve = False, random_state=6)\n",
    "        clf.fit(train_features, train_labels_onehot)\n",
    "        y_train_pred = clf.predict(train_features)\n",
    "        y_train_accuracy = metrics.accuracy_score(train_labels_onehot, y_train_pred)\n",
    "\n",
    "        y_pred = clf.predict(test_features)\n",
    "        y_test_accuracy = metrics.accuracy_score(test_labels_onehot, y_pred)\n",
    "\n",
    "        results.append([i, 'random_hill_climb', y_train_accuracy, y_test_accuracy])\n",
    "        print([i, 'random_hill_climb', y_train_accuracy, y_test_accuracy])"
   ]
  },
  {
   "cell_type": "code",
   "execution_count": 206,
   "id": "potential-warehouse",
   "metadata": {
    "ExecuteTime": {
     "end_time": "2022-10-15T17:12:53.090337Z",
     "start_time": "2022-10-15T17:12:33.384743Z"
    }
   },
   "outputs": [
    {
     "name": "stdout",
     "output_type": "stream",
     "text": [
      "train time: 19.680909633636475\n",
      "accuracy: 0.8315\n"
     ]
    }
   ],
   "source": [
    "clf = mlrose.NeuralNetwork(hidden_nodes=[10,10,10], activation='relu',\n",
    "                           algorithm = 'random_hill_climb',early_stopping = False, \n",
    "                           max_attempts = 1000, max_iters = 2500, clip_max = 5,\n",
    "                           bias = True, learning_rate = 1,\n",
    "                           curve = True, random_state=6)\n",
    "start_time = time.time()\n",
    "clf.fit(train_features, train_labels_onehot)\n",
    "end_time = time.time()\n",
    "rhc_time = end_time-start_time\n",
    "y_pred = clf.predict(test_features)\n",
    "rhc_score = metrics.accuracy_score(test_labels_onehot, y_pred)\n",
    "rhc_fitness_curve = clf.fitness_curve\n",
    "\n",
    "print('train time:', rhc_time)\n",
    "print('accuracy:', rhc_score)"
   ]
  },
  {
   "cell_type": "code",
   "execution_count": null,
   "id": "three-october",
   "metadata": {},
   "outputs": [],
   "source": [
    "#gradient_descent\n",
    "clf = mlrose.NeuralNetwork(hidden_nodes=[10,10,10], activation='relu',\n",
    "                           algorithm = 'gradient_descent',early_stopping = False, \n",
    "                           max_attempts = 100, max_iters = 2500, clip_max = 5,\n",
    "                           bias = True, learning_rate = 0.00001,\n",
    "                           curve = True, random_state=42)\n",
    "\n",
    "start_time = time.time()\n",
    "clf.fit(train_features, train_labels_onehot)\n",
    "end_time = time.time()\n",
    "base_time = end_time-start_time\n",
    "y_pred = clf.predict(test_features)\n",
    "gd_score = metrics.accuracy_score(test_labels_onehot, y_pred)\n",
    "gd_fitness_curve = clf.fitness_curve\n",
    "\n",
    "print('train time:', base_time)\n",
    "print('accuracy:', gd_score)"
   ]
  }
 ],
 "metadata": {
  "colab": {
   "collapsed_sections": [],
   "name": "Assignment2_hyao66_partI.ipynb",
   "provenance": []
  },
  "kernelspec": {
   "display_name": "Python 3",
   "language": "python",
   "name": "python3"
  },
  "language_info": {
   "codemirror_mode": {
    "name": "ipython",
    "version": 3
   },
   "file_extension": ".py",
   "mimetype": "text/x-python",
   "name": "python",
   "nbconvert_exporter": "python",
   "pygments_lexer": "ipython3",
   "version": "3.8.3"
  }
 },
 "nbformat": 4,
 "nbformat_minor": 5
}
